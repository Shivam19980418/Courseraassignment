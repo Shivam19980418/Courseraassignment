{
 "cells": [
  {
   "cell_type": "markdown",
   "id": "9f79b420-48c4-4d47-b725-9999aa8064f5",
   "metadata": {},
   "source": [
    "<h1>Data Science Tools and Ecosystem </h1>"
   ]
  },
  {
   "cell_type": "markdown",
   "id": "5677a608-cff9-4bc9-8cd4-d40d1582043a",
   "metadata": {},
   "source": [
    "In this notebook, Data Science Tools and Ecosystem are summarized."
   ]
  },
  {
   "cell_type": "markdown",
   "id": "6b25b6b8-1bde-4fca-958f-a1be494c16aa",
   "metadata": {},
   "source": [
    "**Objectives:**\n",
    "- Python\n",
    "- R\n",
    "- C++"
   ]
  },
  {
   "cell_type": "markdown",
   "id": "519a5fb8-33fd-4045-abf2-43ea5bf1b0d0",
   "metadata": {},
   "source": [
    "Some of the popular languages that Data Scientists use are:\n",
    "1. Python\n",
    "2. R\n",
    "3. C++"
   ]
  },
  {
   "cell_type": "markdown",
   "id": "940e817a-be3a-4da8-bd50-f7c9b90f7d5f",
   "metadata": {},
   "source": [
    "Some of the commonly used libraries used by Data Scientists include:\n",
    "1. NumPy\n",
    "2. Pandas\n",
    "3. PyTorch"
   ]
  },
  {
   "cell_type": "markdown",
   "id": "4c9a5bd7-c4a4-4c24-bbb6-96faaac3849b",
   "metadata": {},
   "source": [
    "| Data Science Tools      | \n",
    "| -----------             |\n",
    "| ggplot                  | \n",
    "| TensorFlow              | \n",
    "| Pandas                  | "
   ]
  },
  {
   "cell_type": "markdown",
   "id": "f642a167-d32d-406c-aee8-09384b01f0c1",
   "metadata": {},
   "source": [
    "<h3>Below are a few examples of evaluating arithmetic expressions in Python.</h3>"
   ]
  },
  {
   "cell_type": "code",
   "execution_count": 1,
   "id": "b0f1bff5-0d2e-4878-8b50-8d1f81180c8e",
   "metadata": {
    "tags": []
   },
   "outputs": [
    {
     "name": "stdout",
     "output_type": "stream",
     "text": [
      "17\n"
     ]
    }
   ],
   "source": [
    "print((3*4)+5)\n",
    "#This a simple arithmetic expression to mutiply then add integers."
   ]
  },
  {
   "cell_type": "code",
   "execution_count": 4,
   "id": "e4f744ab-4992-41d8-88ca-3b589aeeae7c",
   "metadata": {
    "tags": []
   },
   "outputs": [
    {
     "name": "stdout",
     "output_type": "stream",
     "text": [
      "3.3333333333333335\n",
      "Hours\n"
     ]
    }
   ],
   "source": [
    "x=200\n",
    "y=x/60\n",
    "print(y) \n",
    "print(\"Hours\")\n",
    "#his will convert 200 minutes to hours by diving by 60."
   ]
  },
  {
   "cell_type": "markdown",
   "id": "878561d7-e736-44c9-952b-8dc404289a33",
   "metadata": {
    "tags": []
   },
   "source": [
    "<h2>Author</h2>\n",
    "SHIVAM VYAS"
   ]
  },
  {
   "cell_type": "code",
   "execution_count": null,
   "id": "aa790f93-cee7-4ac2-bbf3-bd2d5e837230",
   "metadata": {},
   "outputs": [],
   "source": []
  }
 ],
 "metadata": {
  "kernelspec": {
   "display_name": "Python",
   "language": "python",
   "name": "conda-env-python-py"
  },
  "language_info": {
   "codemirror_mode": {
    "name": "ipython",
    "version": 3
   },
   "file_extension": ".py",
   "mimetype": "text/x-python",
   "name": "python",
   "nbconvert_exporter": "python",
   "pygments_lexer": "ipython3",
   "version": "3.7.12"
  }
 },
 "nbformat": 4,
 "nbformat_minor": 5
}
